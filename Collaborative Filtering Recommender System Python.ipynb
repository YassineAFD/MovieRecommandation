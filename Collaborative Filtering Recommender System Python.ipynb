{
 "cells": [
  {
   "cell_type": "markdown",
   "metadata": {},
   "source": [
    "# Building a movie Recommender System using two techniques of Collaborative Filtering"
   ]
  },
  {
   "cell_type": "markdown",
   "metadata": {},
   "source": [
    "# Dataset"
   ]
  },
  {
   "cell_type": "markdown",
   "metadata": {},
   "source": [
    "We use in this notebook the MovieLens dataset.The dataset consists of movies released on or before July 2017, we extract only ratings data for training and testing contains 100,000 ratings from 700 users on 9,000 movies.\n",
    "\n",
    "Source: https://www.kaggle.com/rounakbanik/the-movies-dataset/data"
   ]
  },
  {
   "cell_type": "code",
   "execution_count": 1,
   "metadata": {
    "collapsed": true
   },
   "outputs": [],
   "source": [
    "import pandas\n",
    "from sklearn.model_selection import train_test_split\n",
    "import numpy as np\n",
    "import pandas as pd\n",
    "import pylab as pl\n",
    "import math as mt\n",
    "import time\n",
    "import Recommenders as Recommenders\n",
    "import Evaluation as Evaluation"
   ]
  },
  {
   "cell_type": "markdown",
   "metadata": {},
   "source": [
    "# Load ratings data"
   ]
  },
  {
   "cell_type": "code",
   "execution_count": 2,
   "metadata": {
    "collapsed": true
   },
   "outputs": [],
   "source": [
    "ratings_metadata_file = 'ratings_small.csv'\n",
    "\n",
    "#Read rating movies  metadata\n",
    "\n",
    "ratings_df =  pd.read_csv(ratings_metadata_file)"
   ]
  },
  {
   "cell_type": "markdown",
   "metadata": {},
   "source": [
    "# Explore data\n",
    "Ratings data shows rating given by a user to a movie."
   ]
  },
  {
   "cell_type": "code",
   "execution_count": 3,
   "metadata": {},
   "outputs": [
    {
     "data": {
      "text/html": [
       "<div>\n",
       "<style>\n",
       "    .dataframe thead tr:only-child th {\n",
       "        text-align: right;\n",
       "    }\n",
       "\n",
       "    .dataframe thead th {\n",
       "        text-align: left;\n",
       "    }\n",
       "\n",
       "    .dataframe tbody tr th {\n",
       "        vertical-align: top;\n",
       "    }\n",
       "</style>\n",
       "<table border=\"1\" class=\"dataframe\">\n",
       "  <thead>\n",
       "    <tr style=\"text-align: right;\">\n",
       "      <th></th>\n",
       "      <th>userId</th>\n",
       "      <th>movieId</th>\n",
       "      <th>rating</th>\n",
       "      <th>timestamp</th>\n",
       "    </tr>\n",
       "  </thead>\n",
       "  <tbody>\n",
       "    <tr>\n",
       "      <th>0</th>\n",
       "      <td>1</td>\n",
       "      <td>31</td>\n",
       "      <td>2.5</td>\n",
       "      <td>1260759144</td>\n",
       "    </tr>\n",
       "    <tr>\n",
       "      <th>1</th>\n",
       "      <td>1</td>\n",
       "      <td>1029</td>\n",
       "      <td>3.0</td>\n",
       "      <td>1260759179</td>\n",
       "    </tr>\n",
       "    <tr>\n",
       "      <th>2</th>\n",
       "      <td>1</td>\n",
       "      <td>1061</td>\n",
       "      <td>3.0</td>\n",
       "      <td>1260759182</td>\n",
       "    </tr>\n",
       "    <tr>\n",
       "      <th>3</th>\n",
       "      <td>1</td>\n",
       "      <td>1129</td>\n",
       "      <td>2.0</td>\n",
       "      <td>1260759185</td>\n",
       "    </tr>\n",
       "    <tr>\n",
       "      <th>4</th>\n",
       "      <td>1</td>\n",
       "      <td>1172</td>\n",
       "      <td>4.0</td>\n",
       "      <td>1260759205</td>\n",
       "    </tr>\n",
       "  </tbody>\n",
       "</table>\n",
       "</div>"
      ],
      "text/plain": [
       "   userId  movieId  rating   timestamp\n",
       "0       1       31     2.5  1260759144\n",
       "1       1     1029     3.0  1260759179\n",
       "2       1     1061     3.0  1260759182\n",
       "3       1     1129     2.0  1260759185\n",
       "4       1     1172     4.0  1260759205"
      ]
     },
     "execution_count": 3,
     "metadata": {},
     "output_type": "execute_result"
    }
   ],
   "source": [
    "ratings_df.head()"
   ]
  },
  {
   "cell_type": "markdown",
   "metadata": {},
   "source": [
    "# Length of the dataset"
   ]
  },
  {
   "cell_type": "code",
   "execution_count": 4,
   "metadata": {},
   "outputs": [
    {
     "data": {
      "text/plain": [
       "100004"
      ]
     },
     "execution_count": 4,
     "metadata": {},
     "output_type": "execute_result"
    }
   ],
   "source": [
    "len(ratings_df)"
   ]
  },
  {
   "cell_type": "markdown",
   "metadata": {},
   "source": [
    "# Get number of users and movies in the dataset"
   ]
  },
  {
   "cell_type": "code",
   "execution_count": 5,
   "metadata": {},
   "outputs": [
    {
     "name": "stdout",
     "output_type": "stream",
     "text": [
      "Number of users = 671 | Number of movies = 9066\n"
     ]
    }
   ],
   "source": [
    "n_users = ratings_df.userId.unique().shape[0]\n",
    "n_items = ratings_df.movieId.unique().shape[0]\n",
    "print ('Number of users = ' + str(n_users) + ' | Number of movies = ' + str(n_items))"
   ]
  },
  {
   "cell_type": "markdown",
   "metadata": {},
   "source": [
    "# Get list of unique users in the dataset"
   ]
  },
  {
   "cell_type": "code",
   "execution_count": 6,
   "metadata": {},
   "outputs": [
    {
     "data": {
      "text/plain": [
       "(671,)"
      ]
     },
     "execution_count": 6,
     "metadata": {},
     "output_type": "execute_result"
    }
   ],
   "source": [
    "users = ratings_df['userId'].unique()\n",
    "users.shape"
   ]
  },
  {
   "cell_type": "markdown",
   "metadata": {},
   "source": [
    "# Calcul the sparsity level of datasets"
   ]
  },
  {
   "cell_type": "code",
   "execution_count": 7,
   "metadata": {},
   "outputs": [
    {
     "name": "stdout",
     "output_type": "stream",
     "text": [
      "The sparsity level of datasets is 98.4%\n"
     ]
    }
   ],
   "source": [
    "sparsity=round(1.0-len(ratings_df)/float(n_users*n_items),3)\n",
    "print('The sparsity level of datasets is ' +  str(sparsity*100) + '%')"
   ]
  },
  {
   "cell_type": "markdown",
   "metadata": {},
   "source": [
    "# Split the dataset into testing and training"
   ]
  },
  {
   "cell_type": "code",
   "execution_count": 8,
   "metadata": {},
   "outputs": [
    {
     "name": "stdout",
     "output_type": "stream",
     "text": [
      "Number of data in train = 80003 | in test = 20001\n"
     ]
    }
   ],
   "source": [
    "train_data, test_data = train_test_split(ratings_df, test_size=0.20)\n",
    "\n",
    "print('Number of data in train = ' + str(len(train_data)) + ' | in test = ' + str(len(test_data)))"
   ]
  },
  {
   "cell_type": "markdown",
   "metadata": {},
   "source": [
    "# Create an instance of item similarity based recommender class"
   ]
  },
  {
   "cell_type": "code",
   "execution_count": 9,
   "metadata": {
    "collapsed": true
   },
   "outputs": [],
   "source": [
    "is_model = Recommenders.item_similarity_recommender_py()\n",
    "is_model.create(train_data, 'userId', 'movieId')"
   ]
  },
  {
   "cell_type": "markdown",
   "metadata": {},
   "source": [
    "# Recommendation for user 2 using item similarity model"
   ]
  },
  {
   "cell_type": "code",
   "execution_count": 10,
   "metadata": {},
   "outputs": [
    {
     "name": "stdout",
     "output_type": "stream",
     "text": [
      "___________ List of recommended movies id _______________\n",
      "\n",
      "[296.0, 47.0, 1198.0, 2571.0, 4993.0, 1265.0, 1270.0, 4963.0, 1196.0, 364.0]\n"
     ]
    }
   ],
   "source": [
    "user_id = users[2]\n",
    "recom1 = is_model.recommend(user_id)\n",
    "print(\"___________ List of recommended movies id _______________\")\n",
    "print(\"\")\n",
    "print(list(recom1['movie']))"
   ]
  },
  {
   "cell_type": "markdown",
   "metadata": {},
   "source": [
    "# Create an instance of SVD recommender class"
   ]
  },
  {
   "cell_type": "code",
   "execution_count": 22,
   "metadata": {
    "collapsed": true
   },
   "outputs": [],
   "source": [
    "svd_model = Recommenders.svd_recommender_py()"
   ]
  },
  {
   "cell_type": "markdown",
   "metadata": {},
   "source": [
    "# Recommendation for user 2 using Matrix Factorization SVD"
   ]
  },
  {
   "cell_type": "code",
   "execution_count": 23,
   "metadata": {},
   "outputs": [
    {
     "name": "stdout",
     "output_type": "stream",
     "text": [
      "___________ List of recommended movies id _______________\n",
      "\n",
      "[260, 515, 524, 314, 463, 926, 277, 928, 226, 678]\n"
     ]
    }
   ],
   "source": [
    "svd_model.create(train_data, 2)\n",
    "recom = svd_model.recommend(user_id)\n",
    "print(\"___________ List of recommended movies id _______________\")\n",
    "print(\"\")\n",
    "print(list(recom))"
   ]
  },
  {
   "cell_type": "markdown",
   "metadata": {},
   "source": [
    "# Quantitative comparison between the models\n",
    "We now formally compare the item similarity and the SVD models using precision-recall curves"
   ]
  },
  {
   "cell_type": "markdown",
   "metadata": {},
   "source": [
    "### Use the above precision recall calculator class to calculate the evaluation measures"
   ]
  },
  {
   "cell_type": "code",
   "execution_count": 17,
   "metadata": {},
   "outputs": [
    {
     "name": "stdout",
     "output_type": "stream",
     "text": [
      "Length of user_test_and_training:671\n",
      "Length of user sample:33\n",
      "Getting recommendations for user:395\n",
      "Getting recommendations for user:431\n",
      "Getting recommendations for user:42\n",
      "Getting recommendations for user:266\n",
      "Getting recommendations for user:524\n",
      "Getting recommendations for user:498\n",
      "Getting recommendations for user:415\n",
      "Getting recommendations for user:311\n",
      "Getting recommendations for user:489\n",
      "Getting recommendations for user:367\n",
      "Getting recommendations for user:598\n",
      "Getting recommendations for user:224\n",
      "Getting recommendations for user:517\n",
      "Getting recommendations for user:143\n",
      "Getting recommendations for user:289\n",
      "Getting recommendations for user:144\n",
      "Getting recommendations for user:98\n",
      "Getting recommendations for user:634\n",
      "Getting recommendations for user:257\n",
      "Getting recommendations for user:546\n",
      "Getting recommendations for user:617\n",
      "Getting recommendations for user:151\n",
      "Getting recommendations for user:318\n",
      "Getting recommendations for user:102\n",
      "Getting recommendations for user:76\n",
      "Getting recommendations for user:339\n",
      "Getting recommendations for user:484\n",
      "Getting recommendations for user:574\n",
      "Getting recommendations for user:104\n",
      "Getting recommendations for user:363\n",
      "Getting recommendations for user:445\n",
      "Getting recommendations for user:324\n",
      "Getting recommendations for user:626\n",
      "662.6329004764557\n"
     ]
    }
   ],
   "source": [
    "start = time.time()\n",
    "#Define what percentage of users to use for precision recall calculation\n",
    "user_sample = 0.05\n",
    "#Instantiate the precision_recall_calculator class\n",
    "pr = Evaluation.precision_recall_calculator(test_data, train_data, svd_model, is_model)\n",
    "#Call method to calculate precision and recall values\n",
    "(svd_avg_precision_list, svd_avg_recall_list, ism_avg_precision_list, ism_avg_reMethod to generate precision and recall curvecall_list) = pr.calculate_measures(user_sample)\n",
    "end = time.time()\n",
    "print(end - start)"
   ]
  },
  {
   "cell_type": "markdown",
   "metadata": {},
   "source": [
    "### Method to generate precision and recall curve"
   ]
  },
  {
   "cell_type": "code",
   "execution_count": 18,
   "metadata": {
    "collapsed": true
   },
   "outputs": [],
   "source": [
    "def plot_precision_recall(m1_precision_list, m1_recall_list, m1_label, m2_precision_list, m2_recall_list, m2_label):\n",
    "    pl.clf()    \n",
    "    pl.plot(m1_recall_list, m1_precision_list, label=m1_label)\n",
    "    pl.plot(m2_recall_list, m2_precision_list, label=m2_label)\n",
    "    pl.xlabel('Recall')\n",
    "    pl.ylabel('Precision')\n",
    "    pl.ylim([0.0, 0.2])\n",
    "    pl.xlim([0.0, 0.2])\n",
    "    pl.title('Precision-Recall curve')\n",
    "    #pl.legend(loc=\"upper right\")\n",
    "    pl.legend(loc=9, bbox_to_anchor=(0.5, -0.2))\n",
    "    pl.show()"
   ]
  },
  {
   "cell_type": "markdown",
   "metadata": {},
   "source": [
    "### Plotting precision recall curves."
   ]
  },
  {
   "cell_type": "code",
   "execution_count": 21,
   "metadata": {},
   "outputs": [
    {
     "data": {
      "image/png": "[encoded data removed]",
      "text/plain": [
       "<matplotlib.figure.Figure at 0x9dde5b0>"
      ]
     },
     "metadata": {},
     "output_type": "display_data"
    }
   ],
   "source": [
    "plot_precision_recall(svd_avg_precision_list, svd_avg_recall_list, \"SVD_model\",\n",
    "                      ism_avg_precision_list, ism_avg_recall_list, \"item_similarity_model\")"
   ]
  },
  {
   "cell_type": "markdown",
   "metadata": {},
   "source": [
    "The curve shows that the SVD model ( Model-based Collaborative Filtering ) provides much better performance over the item \n",
    "similarity model ( Memory-Based Collaborative Filtering) ."
   ]
  }
 ],
 "metadata": {
  "kernelspec": {
   "display_name": "Python 3",
   "language": "python",
   "name": "python3"
  },
  "language_info": {
   "codemirror_mode": {
    "name": "ipython",
    "version": 3
   },
   "file_extension": ".py",
   "mimetype": "text/x-python",
   "name": "python",
   "nbconvert_exporter": "python",
   "pygments_lexer": "ipython3",
   "version": "3.6.3"
  }
 },
 "nbformat": 4,
 "nbformat_minor": 2
}
